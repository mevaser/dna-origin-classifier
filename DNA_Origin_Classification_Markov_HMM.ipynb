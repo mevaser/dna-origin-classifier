{
  "nbformat": 4,
  "nbformat_minor": 0,
  "metadata": {
    "colab": {
      "provenance": []
    },
    "kernelspec": {
      "name": "python3",
      "display_name": "Python 3"
    },
    "language_info": {
      "name": "python"
    }
  },
  "cells": [
    {
      "cell_type": "markdown",
      "source": [
        "# 🔬 DNA Sequence Origin Classification with Markov Chains & HMM\n",
        "\n",
        "In this notebook, we analyze DNA sequences to determine their most likely biological origin:  \n",
        "**Human, Corona, or Cholera**.\n",
        "\n",
        "We use two statistical approaches:\n",
        "- **Log-Likelihood scores** based on Markov transition matrices (Part A)\n",
        "- **Hidden Markov Model (HMM)** with the **Viterbi algorithm** (Part B)\n",
        "\n",
        "---\n",
        "\n",
        "## 🔍 What you'll find here:\n",
        "- Manual insertion of DNA sequences\n",
        "- Building transition probability matrices for each organism\n",
        "- Computing log-likelihood (LL) to classify a full sequence (Part A)\n",
        "- Using HMM & Viterbi to classify each nucleotide in a sequence (Part B)\n",
        "- Biological interpretation and comparison between organisms\n",
        "\n",
        "> Bonus: Clear explanations, formatted outputs, and logic directly aligned with the assignment structure.\n"
      ],
      "metadata": {
        "id": "YgZk7XLdZltX"
      }
    },
    {
      "cell_type": "code",
      "execution_count": null,
      "metadata": {
        "id": "l-ujHLXVVjSb"
      },
      "outputs": [],
      "source": [
        "# 📦 Import libraries\n",
        "import pandas as pd\n",
        "import numpy as np\n",
        "from collections import defaultdict\n",
        "from IPython.display import display\n",
        "\n"
      ]
    },
    {
      "cell_type": "code",
      "source": [
        "# Step 1: Define DNA sequences\n",
        "\n",
        "human_seq = \"\"\"\n",
        "    TATAATCACTGAAACTTCAGGCACCCCACTCCATGCCTTGGAGGCTCTCAATGTGCTCAAGAATCTGCAAAAGCA\n",
        "    AACACCTGGGGCTGAAGAATAAAATAGAAAAAAAATTATTTCTCAGCCTCCATAAGATTCTATGTCAAAAAAAAA\n",
        "    GAAAATCTTTAAAATCTCCAAAAATATTGGTGAGAAAAAAGCCTTAGCCCTCATATGAAGAAGAAAAAACTTGTT\n",
        "    CCATTTTCCAGATACATAGTTATAATACAAATATAAAATGGGGCAAAGACAAAAACCAAGTCTTCTATATAAACT\n",
        "    AGTGAATTGTGTAGTTATTGTAATCACATTAGTCAGGGGTCTCCAGAAAGGCAGAATCAATAGGATATATGTAGA\n",
        "    CAGATAGAGAAGATTCATTAGGGGAACTGGTTCACATAATTATGGAGGCTGAGAAGTTCCACAATAGCCTGTCTC\n",
        "    CAAGTTGGAGAACCAGAAAAGCTGGTAGCATGGCTCACTCCAGATACAAAGGACTCAGAATCGGGGAAGCCAATG\n",
        "    GTGTAACTCTGATTGTGAGGCCAAAGGTCTGAGACCCTGAAGTTCTGATGTCAAGGGCAGGAGAAGAAGGATGTT\n",
        "    TCCATTTCAGAAGGAGATAATTCACCTTTCCTCTTCCTTGTTATTCTATCTGGGCTCTCAACCAATTGGATGCTG\n",
        "    CCTGTATTCATCCATTTTTATACAGCTATGAAGAAATACCTGAGTCTGAGCAATTTATAAAGAACAAAGGGGTTT\n",
        "    AATGGGCTGACAGTTCCATATGGCTGCAGGGGCCTCACAATCATGGCAGAAGGGGAAGCAAAGCTATCCCTCTTC\n",
        "    ACATGGCAGCAACAAGAAGTGCTGACCCAAAGGGGAAAAGCCCCTTATAAAACCATCAGATCATGAGAACTCACT\n",
        "    CACTGTCATGAGAACAGCATGGCAGTAACCACCACCATGATTCAGTCACCTCCCATTGGGTCCCTCCCACGACAT\n",
        "    GTAGGTATTACAGGAACTACAATTCAAGATGAGATCTGGGTGGGGACACAGCCAAACCATATCAGTGCCCATCCA\n",
        "    CATTGGGTCATGGTTATCTCAGTGTCTTCCAGAAACACCCTCATAGATATGCCCAGAAATCGTTTGACCAGCTGT\n",
        "    GTGTGTCTCTCAATCCAGTCAAGTAGACGTCTACGATTAACCATCAGAATATTTATGCCTGATTCATGGCTGAAA\n",
        "    TCGTGTT\n",
        "\"\"\".replace(\"\\n\", \"\").replace(\" \", \"\").upper()\n",
        "\n",
        "corona_seq = \"\"\"\n",
        "    ATTAAAGGTTTATACCTTCCCAGGTAACAAACCAACCAACTTTCGATCTCTTGTAGATCTGTTCTCTAAA\n",
        "    CGAACTTTAAAATCTGTGTGGCTGTCACTCGGCTGCATGCTTAGTGCACTCACGCAGTATAATTAATAAC\n",
        "    TAATTACTGTCGTTGACAGGACACGAGTAACTCGTCTATCTTCTGCAGGCTGCTTACGGTTTCGTCCGTG\n",
        "    TTGCAGCCGATCATCAGCACATCTAGGTTTCGTCCGGGTGTGACCGAAAGGTAAGATGGAGAGCCTTGTC\n",
        "    CCTGGTTTCAACGAGAAAACACACGTCCAACTCAGTTTGCCTGTTTTACAGGTTCGCGACGTGCTCGTAC\n",
        "    GTGGCTTTGGAGACTCCGTGGAGGAGGTCTTATCAGAGGCACGTCAACATCTTAAAGATGGCACTTGTGG\n",
        "    CTTAGTAGAAGTTGAAAAAGGCGTTTTGCCTCAACTTGAACAGCCCTATGTGTTCATCAAACGTTCGGAT\n",
        "    GCTCGAACTGCACCTCATGGTCATGTTATGGTTGAGCTGGTAGCAGAACTCGAAGGCATTCAGTACGGTC\n",
        "    GTAGTGGTGAGACACTTGGTGTCCTTGTCCCTCATGTGGGCGAAATACCAGTGGCTTACCGCAAGGTTCT\n",
        "    TCTTCGTAAGAACGGTAATAAAGGAGCTGGTGGCCATAGTTACGGCGCCGATCTAAAGTCATTTGACTTA\n",
        "    GGCGACGAGCTTGGCACTGATCCTTATGAAGATTTTCAAGAAAACTGGAACACTAAACATAGCAGTGGTG\n",
        "    TTACCCGTGAACTCATGCGTGAGCTTAACGGAGGGGCATACACTCGCTATGTCGATAACAACTTCTGTGG\n",
        "    CCCTGATGGCTACCCTCTTGAGTGCATTAAAGACCTTCTAGCACGTGCTGGTAAAGCTTCATGCACTTTG\n",
        "    TCCGAACAACTGGACTTTATTGACACTAAGAGGGGTGTATACTGCTGCCGTGAACATGAGCATGAAATTG\n",
        "    CTTGGTACACGGAACGTTCTGAAAAGAGCTATGAATTGCAGACACCTTTTGAAATTAAATTGGCAAAGAA\n",
        "    ATTTGACACCTTCAATGGGGAATGTCCAAATTTTGTATTTCCCTTAAATTCCATAATCAAGACTATTCAA\n",
        "    CCAAGGGTTGAAAAGAAAAAGCTTGATGGCTTTATGGGTAGAATTCGATCTGTCTATCCAGTTGCGTCAC\n",
        "\"\"\".replace(\"\\n\", \"\").replace(\" \", \"\").upper()\n",
        "\n",
        "cholera_seq = \"\"\"\n",
        "    ATTGAACGCTGGCGGCAGGCCTAACACATGCAAGTCGAGCGGCAGCACAGAGGAACTTGTTCCTTGGGTG\n",
        "    GCGAGCGGCGGACGGGTGAGTAATGCCTGGGAAATTGCCCGGTAGAGGGGGATAACCATTGGAAACGATG\n",
        "    GCTAATACCGCATAACCTCGCAAGAGCAAAGCAGGGGACCTTCGGGCCTTGCGCTATCGGATATGCCCAG\n",
        "    GTGGGATTAGCTAGTTGGTGAGGTAAGGGCTCACCAAGGCGACGATCCCTAGCTGGTCTGAGAGGATGAT\n",
        "    CAGCCACACTGGAACTGAGACACGGTCCAGACTCCTACGGGAGGCAGCAGTGGGGAATATTGCACAATGG\n",
        "    GCGCAAGCCTGATGCAGCCATGCCGCGTGTATGAAGAAGGCCTTCGGGTTGTAAAGTACTTTCAGTAGGG\n",
        "    AGGAAGGTGGTTAAGTTAATACCTTAATCATTTGACGTTACCTACAGAAGAAGCACCGGCTAACTCCGTG\n",
        "    CCAGCAGCCGCGGTAATACGGAGGGTGCAAGCGTTAATCGGAATTACTGGGCGTAAAGCGCATGCAGGTG\n",
        "    GTTTGTTAAGTCAGATGTGAAAGCCCTGGGCTCAACCTAGGAATCGCATTTGAAACTGACAAGCTAGAGT\n",
        "    ACTGTAGAGGGGGGTAGAATTTCAGGTGTAGCGGTGAAATGCGTAGAGATCTGAAGGAATACCGGTGGCG\n",
        "    AAGGCGGCCCCCTGGACAGATACTGACACTCAGATGCGAAAGCGTGGGGAGCAAACAGGATTAGATACCC\n",
        "    TGGTAGTCCACGCCGTAAACGATGTCTACTTGGAGGTTGTGCCCTAGAGGTGTGGCTTTCGGAGCTAACG\n",
        "    CGTTAAGTAGACCGCCTGGGGAGTACGGTCGCAAGATTAAAACTCAAATGAATTGACGGGGGCCCGCACA\n",
        "    AGCGGTGGAGCATGTGGTTTAATTCGATGCAACGCGAAGAACCTTACCTACTCTTGACATCCAGAGAATC\n",
        "    TGGCGGAGACGCTGGAGTGCCTTCGGGAGCTCTGAGACAGGTGCTGCATGGCTGTCGTCAGCTCGTGTTG\n",
        "    TGAAATGTTGGGTTAAGTCCCGCAACGAGCGCAACCCTTATCCTTGTTTGCCAGCACGTAATGGTGGGAA\n",
        "    CTCCAGGGAGACTGCCGGTGATAAACCGGAGGAAGGTGGGGACGACGTCAAGTCATCATGGCCCTTACGA\n",
        "    GTAGGGCTACACACGTGCTACAATGGCGTATACAGAGGGCAGCGATACCGCGAGGTGGAGCGAATCTCAC\n",
        "    AAAGTACGTCGTAGTCCGGATTGGAGTCTGCAACTCGACTCCATGAAGTCGGAATCGCTAGTAATCGCAA\n",
        "    ATCAGAATGTTGCGGTGAATACGTTCCCGGGCCTTGTACACACCGCCCGTCACACCATGGGAGTGGGCTG\n",
        "    CAAAAGAAGCAGGTAGTTTAACCTTCGGGAGGACGCTTGCCACTTTGTGGTTCATGACTGGGGTG\n",
        "\"\"\".replace(\"\\n\", \"\").replace(\" \", \"\").upper()\n"
      ],
      "metadata": {
        "id": "c1v9FnlPV3gH"
      },
      "execution_count": null,
      "outputs": []
    },
    {
      "cell_type": "code",
      "source": [
        "# 📊 This function builds a Markov transition matrix from a DNA sequence\n",
        "\n",
        "def build_transition_table_df(dna_sequence):\n",
        "    transitions = defaultdict(lambda: defaultdict(int))\n",
        "    total_transitions = defaultdict(int)\n",
        "\n",
        "    for i in range(len(dna_sequence) - 1):\n",
        "        current = dna_sequence[i]\n",
        "        next_nt = dna_sequence[i + 1]\n",
        "        if current in \"ACGT\" and next_nt in \"ACGT\":\n",
        "            transitions[current][next_nt] += 1\n",
        "            total_transitions[current] += 1\n",
        "\n",
        "    matrix = pd.DataFrame(index=[\"A\", \"C\", \"G\", \"T\"], columns=[\"A\", \"C\", \"G\", \"T\"])\n",
        "    for current in \"ACGT\":\n",
        "        for next_nt in \"ACGT\":\n",
        "            count = transitions[current][next_nt]\n",
        "            total = total_transitions[current] or 1\n",
        "            matrix.loc[current, next_nt] = round(count / total, 4)\n",
        "\n",
        "    return matrix.fillna(0)\n"
      ],
      "metadata": {
        "id": "A_vqINj6Vq8M"
      },
      "execution_count": null,
      "outputs": []
    },
    {
      "cell_type": "code",
      "source": [
        "# 🔄 Create transition matrices for human, corona, and cholera\n",
        "\n",
        "human_matrix = build_transition_table_df(human_seq)\n",
        "corona_matrix = build_transition_table_df(corona_seq)\n",
        "cholera_matrix = build_transition_table_df(cholera_seq)\n",
        "\n",
        "# Display the tables\n",
        "display(human_matrix.style.set_caption(\"🧬 Human Transition Matrix\"))\n",
        "display(corona_matrix.style.set_caption(\"🦠 Corona Transition Matrix\"))\n",
        "display(cholera_matrix.style.set_caption(\"🧫 Cholera Transition Matrix\"))\n"
      ],
      "metadata": {
        "colab": {
          "base_uri": "https://localhost:8080/",
          "height": 666
        },
        "id": "8JMnPiQHWW0X",
        "outputId": "63b3b048-8627-4213-80e4-8b58d5b789bc"
      },
      "execution_count": null,
      "outputs": [
        {
          "output_type": "stream",
          "name": "stderr",
          "text": [
            "<ipython-input-11-4462759f9805>:21: FutureWarning: Downcasting object dtype arrays on .fillna, .ffill, .bfill is deprecated and will change in a future version. Call result.infer_objects(copy=False) instead. To opt-in to the future behavior, set `pd.set_option('future.no_silent_downcasting', True)`\n",
            "  return matrix.fillna(0)\n",
            "<ipython-input-11-4462759f9805>:21: FutureWarning: Downcasting object dtype arrays on .fillna, .ffill, .bfill is deprecated and will change in a future version. Call result.infer_objects(copy=False) instead. To opt-in to the future behavior, set `pd.set_option('future.no_silent_downcasting', True)`\n",
            "  return matrix.fillna(0)\n",
            "<ipython-input-11-4462759f9805>:21: FutureWarning: Downcasting object dtype arrays on .fillna, .ffill, .bfill is deprecated and will change in a future version. Call result.infer_objects(copy=False) instead. To opt-in to the future behavior, set `pd.set_option('future.no_silent_downcasting', True)`\n",
            "  return matrix.fillna(0)\n"
          ]
        },
        {
          "output_type": "display_data",
          "data": {
            "text/plain": [
              "<pandas.io.formats.style.Styler at 0x79b0b8fe5050>"
            ],
            "text/html": [
              "<style type=\"text/css\">\n",
              "</style>\n",
              "<table id=\"T_bf313\" class=\"dataframe\">\n",
              "  <caption>🧬 Human Transition Matrix</caption>\n",
              "  <thead>\n",
              "    <tr>\n",
              "      <th class=\"blank level0\" >&nbsp;</th>\n",
              "      <th id=\"T_bf313_level0_col0\" class=\"col_heading level0 col0\" >A</th>\n",
              "      <th id=\"T_bf313_level0_col1\" class=\"col_heading level0 col1\" >C</th>\n",
              "      <th id=\"T_bf313_level0_col2\" class=\"col_heading level0 col2\" >G</th>\n",
              "      <th id=\"T_bf313_level0_col3\" class=\"col_heading level0 col3\" >T</th>\n",
              "    </tr>\n",
              "  </thead>\n",
              "  <tbody>\n",
              "    <tr>\n",
              "      <th id=\"T_bf313_level0_row0\" class=\"row_heading level0 row0\" >A</th>\n",
              "      <td id=\"T_bf313_row0_col0\" class=\"data row0 col0\" >0.359800</td>\n",
              "      <td id=\"T_bf313_row0_col1\" class=\"data row0 col1\" >0.141400</td>\n",
              "      <td id=\"T_bf313_row0_col2\" class=\"data row0 col2\" >0.235700</td>\n",
              "      <td id=\"T_bf313_row0_col3\" class=\"data row0 col3\" >0.263000</td>\n",
              "    </tr>\n",
              "    <tr>\n",
              "      <th id=\"T_bf313_level0_row1\" class=\"row_heading level0 row1\" >C</th>\n",
              "      <td id=\"T_bf313_row1_col0\" class=\"data row1 col0\" >0.431400</td>\n",
              "      <td id=\"T_bf313_row1_col1\" class=\"data row1 col1\" >0.262700</td>\n",
              "      <td id=\"T_bf313_row1_col2\" class=\"data row1 col2\" >0.023500</td>\n",
              "      <td id=\"T_bf313_row1_col3\" class=\"data row1 col3\" >0.282400</td>\n",
              "    </tr>\n",
              "    <tr>\n",
              "      <th id=\"T_bf313_level0_row2\" class=\"row_heading level0 row2\" >G</th>\n",
              "      <td id=\"T_bf313_row2_col0\" class=\"data row2 col0\" >0.325300</td>\n",
              "      <td id=\"T_bf313_row2_col1\" class=\"data row2 col1\" >0.176700</td>\n",
              "      <td id=\"T_bf313_row2_col2\" class=\"data row2 col2\" >0.281100</td>\n",
              "      <td id=\"T_bf313_row2_col3\" class=\"data row2 col3\" >0.216900</td>\n",
              "    </tr>\n",
              "    <tr>\n",
              "      <th id=\"T_bf313_level0_row3\" class=\"row_heading level0 row3\" >T</th>\n",
              "      <td id=\"T_bf313_row3_col0\" class=\"data row3 col0\" >0.224100</td>\n",
              "      <td id=\"T_bf313_row3_col1\" class=\"data row3 col1\" >0.291000</td>\n",
              "      <td id=\"T_bf313_row3_col2\" class=\"data row3 col2\" >0.260900</td>\n",
              "      <td id=\"T_bf313_row3_col3\" class=\"data row3 col3\" >0.224100</td>\n",
              "    </tr>\n",
              "  </tbody>\n",
              "</table>\n"
            ]
          },
          "metadata": {}
        },
        {
          "output_type": "display_data",
          "data": {
            "text/plain": [
              "<pandas.io.formats.style.Styler at 0x79b0c12c0a10>"
            ],
            "text/html": [
              "<style type=\"text/css\">\n",
              "</style>\n",
              "<table id=\"T_538f6\" class=\"dataframe\">\n",
              "  <caption>🦠 Corona Transition Matrix</caption>\n",
              "  <thead>\n",
              "    <tr>\n",
              "      <th class=\"blank level0\" >&nbsp;</th>\n",
              "      <th id=\"T_538f6_level0_col0\" class=\"col_heading level0 col0\" >A</th>\n",
              "      <th id=\"T_538f6_level0_col1\" class=\"col_heading level0 col1\" >C</th>\n",
              "      <th id=\"T_538f6_level0_col2\" class=\"col_heading level0 col2\" >G</th>\n",
              "      <th id=\"T_538f6_level0_col3\" class=\"col_heading level0 col3\" >T</th>\n",
              "    </tr>\n",
              "  </thead>\n",
              "  <tbody>\n",
              "    <tr>\n",
              "      <th id=\"T_538f6_level0_row0\" class=\"row_heading level0 row0\" >A</th>\n",
              "      <td id=\"T_538f6_row0_col0\" class=\"data row0 col0\" >0.329100</td>\n",
              "      <td id=\"T_538f6_row0_col1\" class=\"data row0 col1\" >0.250000</td>\n",
              "      <td id=\"T_538f6_row0_col2\" class=\"data row0 col2\" >0.215200</td>\n",
              "      <td id=\"T_538f6_row0_col3\" class=\"data row0 col3\" >0.205700</td>\n",
              "    </tr>\n",
              "    <tr>\n",
              "      <th id=\"T_538f6_level0_row1\" class=\"row_heading level0 row1\" >C</th>\n",
              "      <td id=\"T_538f6_row1_col0\" class=\"data row1 col0\" >0.289100</td>\n",
              "      <td id=\"T_538f6_row1_col1\" class=\"data row1 col1\" >0.171900</td>\n",
              "      <td id=\"T_538f6_row1_col2\" class=\"data row1 col2\" >0.199200</td>\n",
              "      <td id=\"T_538f6_row1_col3\" class=\"data row1 col3\" >0.339800</td>\n",
              "    </tr>\n",
              "    <tr>\n",
              "      <th id=\"T_538f6_level0_row2\" class=\"row_heading level0 row2\" >G</th>\n",
              "      <td id=\"T_538f6_row2_col0\" class=\"data row2 col0\" >0.255300</td>\n",
              "      <td id=\"T_538f6_row2_col1\" class=\"data row2 col1\" >0.212800</td>\n",
              "      <td id=\"T_538f6_row2_col2\" class=\"data row2 col2\" >0.234000</td>\n",
              "      <td id=\"T_538f6_row2_col3\" class=\"data row2 col3\" >0.297900</td>\n",
              "    </tr>\n",
              "    <tr>\n",
              "      <th id=\"T_538f6_level0_row3\" class=\"row_heading level0 row3\" >T</th>\n",
              "      <td id=\"T_538f6_row3_col0\" class=\"data row3 col0\" >0.194000</td>\n",
              "      <td id=\"T_538f6_row3_col1\" class=\"data row3 col1\" >0.220900</td>\n",
              "      <td id=\"T_538f6_row3_col2\" class=\"data row3 col2\" >0.289600</td>\n",
              "      <td id=\"T_538f6_row3_col3\" class=\"data row3 col3\" >0.295500</td>\n",
              "    </tr>\n",
              "  </tbody>\n",
              "</table>\n"
            ]
          },
          "metadata": {}
        },
        {
          "output_type": "display_data",
          "data": {
            "text/plain": [
              "<pandas.io.formats.style.Styler at 0x79b0d2f9f210>"
            ],
            "text/html": [
              "<style type=\"text/css\">\n",
              "</style>\n",
              "<table id=\"T_8354c\" class=\"dataframe\">\n",
              "  <caption>🧫 Cholera Transition Matrix</caption>\n",
              "  <thead>\n",
              "    <tr>\n",
              "      <th class=\"blank level0\" >&nbsp;</th>\n",
              "      <th id=\"T_8354c_level0_col0\" class=\"col_heading level0 col0\" >A</th>\n",
              "      <th id=\"T_8354c_level0_col1\" class=\"col_heading level0 col1\" >C</th>\n",
              "      <th id=\"T_8354c_level0_col2\" class=\"col_heading level0 col2\" >G</th>\n",
              "      <th id=\"T_8354c_level0_col3\" class=\"col_heading level0 col3\" >T</th>\n",
              "    </tr>\n",
              "  </thead>\n",
              "  <tbody>\n",
              "    <tr>\n",
              "      <th id=\"T_8354c_level0_row0\" class=\"row_heading level0 row0\" >A</th>\n",
              "      <td id=\"T_8354c_row0_col0\" class=\"data row0 col0\" >0.270800</td>\n",
              "      <td id=\"T_8354c_row0_col1\" class=\"data row0 col1\" >0.230600</td>\n",
              "      <td id=\"T_8354c_row0_col2\" class=\"data row0 col2\" >0.313700</td>\n",
              "      <td id=\"T_8354c_row0_col3\" class=\"data row0 col3\" >0.185000</td>\n",
              "    </tr>\n",
              "    <tr>\n",
              "      <th id=\"T_8354c_level0_row1\" class=\"row_heading level0 row1\" >C</th>\n",
              "      <td id=\"T_8354c_row1_col0\" class=\"data row1 col0\" >0.265400</td>\n",
              "      <td id=\"T_8354c_row1_col1\" class=\"data row1 col1\" >0.225300</td>\n",
              "      <td id=\"T_8354c_row1_col2\" class=\"data row1 col2\" >0.277800</td>\n",
              "      <td id=\"T_8354c_row1_col3\" class=\"data row1 col3\" >0.231500</td>\n",
              "    </tr>\n",
              "    <tr>\n",
              "      <th id=\"T_8354c_level0_row2\" class=\"row_heading level0 row2\" >G</th>\n",
              "      <td id=\"T_8354c_row2_col0\" class=\"data row2 col0\" >0.239200</td>\n",
              "      <td id=\"T_8354c_row2_col1\" class=\"data row2 col1\" >0.232800</td>\n",
              "      <td id=\"T_8354c_row2_col2\" class=\"data row2 col2\" >0.321100</td>\n",
              "      <td id=\"T_8354c_row2_col3\" class=\"data row2 col3\" >0.206900</td>\n",
              "    </tr>\n",
              "    <tr>\n",
              "      <th id=\"T_8354c_level0_row3\" class=\"row_heading level0 row3\" >T</th>\n",
              "      <td id=\"T_8354c_row3_col0\" class=\"data row3 col0\" >0.244200</td>\n",
              "      <td id=\"T_8354c_row3_col1\" class=\"data row3 col1\" >0.188100</td>\n",
              "      <td id=\"T_8354c_row3_col2\" class=\"data row3 col2\" >0.359700</td>\n",
              "      <td id=\"T_8354c_row3_col3\" class=\"data row3 col3\" >0.207900</td>\n",
              "    </tr>\n",
              "  </tbody>\n",
              "</table>\n"
            ]
          },
          "metadata": {}
        }
      ]
    },
    {
      "cell_type": "code",
      "source": [
        "# 📈 Build log-likelihood comparison table between two models\n",
        "\n",
        "def build_ll_table(model_neg, model_pos):\n",
        "    ll_table = pd.DataFrame(index=[\"A\", \"C\", \"G\", \"T\"], columns=[\"A\", \"C\", \"G\", \"T\"])\n",
        "    epsilon = 1e-10\n",
        "    for i in \"ACGT\":\n",
        "        for j in \"ACGT\":\n",
        "            p_neg = float(model_neg.loc[i, j]) + epsilon\n",
        "            p_pos = float(model_pos.loc[i, j]) + epsilon\n",
        "            ll_table.loc[i, j] = round(np.log2(p_pos / p_neg), 4)\n",
        "    return ll_table\n"
      ],
      "metadata": {
        "id": "PR2my1eoWaQa"
      },
      "execution_count": null,
      "outputs": []
    },
    {
      "cell_type": "code",
      "source": [
        "# 🔍 Determine origin of the given DNA sequence using LL between multiple organism models\n",
        "\n",
        "# The test DNA sequence (from the assignment image)\n",
        "test_seq = \"CCCCTCTCTGAAAACTGTTCTTAAAAC\".upper()\n",
        "\n",
        "# Build LL tables:\n",
        "ll_corona_human = build_ll_table(human_matrix, corona_matrix)\n",
        "ll_cholera_human = build_ll_table(human_matrix, cholera_matrix)\n",
        "ll_cholera_corona = build_ll_table(corona_matrix, cholera_matrix)\n",
        "\n",
        "# Helper function: Compute log-likelihood score of a sequence using a given LL table\n",
        "def compute_log_likelihood_score(sequence, ll_table):\n",
        "    score = 0\n",
        "    for i in range(len(sequence) - 1):\n",
        "        a, b = sequence[i], sequence[i + 1]\n",
        "        if a in ll_table and b in ll_table.columns:\n",
        "            score += float(ll_table.loc[a, b])\n",
        "    return round(score, 4)\n",
        "\n",
        "# Compute scores\n",
        "score_corona = compute_log_likelihood_score(test_seq, ll_corona_human)\n",
        "score_cholera = compute_log_likelihood_score(test_seq, ll_cholera_human)\n",
        "score_cholera_vs_corona = compute_log_likelihood_score(test_seq, ll_cholera_corona)\n",
        "\n",
        "# Print results\n",
        "print(\"🧬 Test Sequence:\", test_seq)\n",
        "print(\"Corona vs Human LL score:\", score_corona)\n",
        "print(\"Cholera vs Human LL score:\", score_cholera)\n",
        "print(\"Cholera vs Corona LL score:\", score_cholera_vs_corona)\n",
        "\n",
        "# Final decision logic\n",
        "print(\"\\n🔎 Final Decision Based on Log-Likelihood:\")\n",
        "if score_corona > score_cholera and score_corona > 0:\n",
        "    print(\"🦠 Most likely origin: Corona\")\n",
        "elif score_cholera > score_corona and score_cholera > 0:\n",
        "    print(\"🧫 Most likely origin: Cholera\")\n",
        "elif score_cholera_vs_corona > 0:\n",
        "    print(\"🧫 Likely Cholera (based on Cholera vs Corona)\")\n",
        "elif score_cholera_vs_corona < 0:\n",
        "    print(\"🦠 Likely Corona (based on Cholera vs Corona)\")\n",
        "else:\n",
        "    print(\"🧬 Most likely origin: Human\")\n"
      ],
      "metadata": {
        "colab": {
          "base_uri": "https://localhost:8080/"
        },
        "id": "-ZvmyjILYSE8",
        "outputId": "041791aa-a125-4346-f473-43a61cccf8ba"
      },
      "execution_count": null,
      "outputs": [
        {
          "output_type": "stream",
          "name": "stdout",
          "text": [
            "🧬 Test Sequence: CCCCTCTCTGAAAACTGTTCTTAAAAC\n",
            "Corona vs Human LL score: 0.1776\n",
            "Cholera vs Human LL score: -4.7134\n",
            "Cholera vs Corona LL score: -4.8912\n",
            "\n",
            "🔎 Final Decision Based on Log-Likelihood:\n",
            "🦠 Most likely origin: Corona\n"
          ]
        }
      ]
    },
    {
      "cell_type": "markdown",
      "source": [
        "## 🧠 Interpretation of Part A – Log-Likelihood Classification\n",
        "\n",
        "The log-likelihood (LL) score compares the probability of observing the test DNA sequence  \n",
        "under each organism's transition matrix model.\n",
        "\n",
        "- **Positive LL score** → sequence is more likely under the positive model (e.g., Corona)\n",
        "- **Negative LL score** → sequence is more likely under the reference model (e.g., Human)\n",
        "\n",
        "In our case:\n",
        "- LL(Corona vs Human) > 0  \n",
        "- LL(Cholera vs Human) < 0  \n",
        "- LL(Cholera vs Corona) < 0  \n",
        "\n",
        "🧬 **Conclusion**: The test sequence is most likely to originate from the **Corona virus**.\n"
      ],
      "metadata": {
        "id": "Ua9wsoyqZquE"
      }
    },
    {
      "cell_type": "code",
      "source": [
        "# 🤖 Viterbi Algorithm to find most likely organism per nucleotide (Part B)\n",
        "\n",
        "# Step 1: Define transition probabilities between hidden states (organisms)\n",
        "transition_prob = {\n",
        "    \"human\": {\"human\": 0.92, \"corona\": 0.06, \"cholera\": 0.02},\n",
        "    \"corona\": {\"human\": 0.2, \"corona\": 0.78, \"cholera\": 0.02},\n",
        "    \"cholera\": {\"human\": 0.1, \"corona\": 0.03, \"cholera\": 0.87},\n",
        "}\n",
        "\n",
        "# Step 2: Calculate emission probabilities for each organism\n",
        "def build_emission_table(seq):\n",
        "    counts = {nt: 0 for nt in \"ACGT\"}\n",
        "    for nt in seq:\n",
        "        if nt in counts:\n",
        "            counts[nt] += 1\n",
        "    total = sum(counts.values())\n",
        "    return {nt: round(counts[nt] / total, 6) for nt in \"ACGT\"}\n",
        "\n",
        "emission_prob = {\n",
        "    \"human\": build_emission_table(human_seq),\n",
        "    \"corona\": build_emission_table(corona_seq),\n",
        "    \"cholera\": build_emission_table(cholera_seq),\n",
        "}\n",
        "\n",
        "# Step 3: Define start probabilities (equal for simplicity)\n",
        "states = [\"human\", \"corona\", \"cholera\"]\n",
        "start_prob = {s: 1 / len(states) for s in states}\n",
        "\n",
        "# Step 4: Define the Viterbi algorithm\n",
        "def viterbi(obs_seq, states, start_p, trans_p, emit_p):\n",
        "    V = [{}]\n",
        "    path = {}\n",
        "\n",
        "    for state in states:\n",
        "        V[0][state] = np.log(start_p[state]) + np.log(emit_p[state].get(obs_seq[0], 1e-8))\n",
        "        path[state] = [state]\n",
        "\n",
        "    for t in range(1, len(obs_seq)):\n",
        "        V.append({})\n",
        "        new_path = {}\n",
        "\n",
        "        for curr_state in states:\n",
        "            (prob, prev_state) = max(\n",
        "                (V[t - 1][prev_state] + np.log(trans_p[prev_state][curr_state]) + np.log(emit_p[curr_state].get(obs_seq[t], 1e-8)), prev_state)\n",
        "                for prev_state in states\n",
        "            )\n",
        "            V[t][curr_state] = prob\n",
        "            new_path[curr_state] = path[prev_state] + [curr_state]\n",
        "\n",
        "        path = new_path\n",
        "\n",
        "    (final_prob, final_state) = max((V[-1][state], state) for state in states)\n",
        "    return path[final_state]\n",
        "\n",
        "# Step 5: Run on Part B sequence\n",
        "sequence_b = \"AAACCTACGCCCGT\"\n",
        "most_likely_states = viterbi(sequence_b, states, start_prob, transition_prob, emission_prob)\n",
        "\n",
        "print(\"🧬 Sequence:\", sequence_b)\n",
        "print(\"📊 Most likely organism per nucleotide:\")\n",
        "for i in range(len(sequence_b)):\n",
        "    print(f\"• {sequence_b[i]} → {most_likely_states[i]}\")\n"
      ],
      "metadata": {
        "colab": {
          "base_uri": "https://localhost:8080/"
        },
        "id": "VdwEje1aYfYy",
        "outputId": "ff0d8108-8d9d-4d7f-9514-950b93c6d2c0"
      },
      "execution_count": null,
      "outputs": [
        {
          "output_type": "stream",
          "name": "stdout",
          "text": [
            "🧬 Sequence: AAACCTACGCCCGT\n",
            "📊 Most likely organism per nucleotide:\n",
            "• A → human\n",
            "• A → human\n",
            "• A → human\n",
            "• C → human\n",
            "• C → human\n",
            "• T → human\n",
            "• A → human\n",
            "• C → human\n",
            "• G → human\n",
            "• C → human\n",
            "• C → human\n",
            "• C → human\n",
            "• G → human\n",
            "• T → human\n"
          ]
        }
      ]
    },
    {
      "cell_type": "markdown",
      "source": [
        "## 🧠 Interpretation of Part B – Viterbi Classification  \n",
        "The Viterbi algorithm uses transition and emission probabilities from the HMM  \n",
        "to determine the most likely organism for each nucleotide in the sequence.\n",
        "\n",
        "In our case:  \n",
        "All 14 nucleotides were classified as **Human**\n",
        "\n",
        "🧬 Conclusion: The test sequence is most likely to originate from **Human**.\n"
      ],
      "metadata": {
        "id": "yZ_ZYX1FZvrC"
      }
    }
  ]
}